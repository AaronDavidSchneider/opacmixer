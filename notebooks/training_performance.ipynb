{
 "cells": [
  {
   "cell_type": "code",
   "execution_count": 6,
   "metadata": {
    "tags": []
   },
   "outputs": [],
   "source": [
    "import numpy as np\n",
    "import glob\n",
    "import os\n",
    "from opac_mixer.read import ReadOpacChubb\n",
    "from opac_mixer.emulator import Emulator\n",
    "from opac_mixer.emulator import DataIO\n",
    "\n",
    "import matplotlib.pyplot as plt\n",
    "\n",
    "from sklearn.metrics import r2_score, mean_squared_error, mean_absolute_percentage_error\n",
    "from ipywidgets import interact, IntSlider, FloatSlider, Dropdown\n",
    "%matplotlib widget"
   ]
  },
  {
   "cell_type": "code",
   "execution_count": 8,
   "metadata": {
    "collapsed": false,
    "jupyter": {
     "outputs_hidden": false
    },
    "tags": []
   },
   "outputs": [],
   "source": [
    "R='S1'\n",
    "base = f'{os.environ[\"pRT_input_data_path\"]}/opacities/lines/corr_k'\n",
    "files = glob.glob(os.path.join(base,f'*_R_{R}/*.h5'))\n",
    "batchsize = int(2**19)\n",
    "\n",
    "load = False\n",
    "load_model = False"
   ]
  },
  {
   "cell_type": "code",
   "execution_count": 9,
   "metadata": {
    "tags": []
   },
   "outputs": [],
   "source": [
    "opac = ReadOpacChubb(files)\n",
    "emulator = Emulator(opac, filename_data=f'data/dataset_{R}_{batchsize}.h5')"
   ]
  },
  {
   "cell_type": "code",
   "execution_count": null,
   "metadata": {
    "tags": []
   },
   "outputs": [
    {
     "name": "stderr",
     "output_type": "stream",
     "text": [
      " 16%|█▌        | 82401/524288 [03:58<20:42, 355.71it/s]"
     ]
    }
   ],
   "source": [
    "if load:\n",
    "    X_train, X_test, y_train, y_test = emulator.load_data()\n",
    "else:\n",
    "    emulator.setup_sampling_grid(batchsize=batchsize)\n",
    "    X_train, X_test, y_train, y_test = emulator.setup_mix(do_parallel=True)"
   ]
  },
  {
   "cell_type": "code",
   "execution_count": 5,
   "metadata": {
    "tags": []
   },
   "outputs": [],
   "source": [
    "emulator.setup_model(load=load_model, filename=f'data/model_R_{R}_{batchsize}', tree_method='gpu_hist', max_depth=16, n_estimators=30, subsample=1.0)"
   ]
  },
  {
   "cell_type": "code",
   "execution_count": 6,
   "metadata": {
    "tags": []
   },
   "outputs": [
    {
     "name": "stdout",
     "output_type": "stream",
     "text": [
      "[0]\tvalidation_0-rmse:11.03853\tvalidation_1-rmse:11.03013\n",
      "[1]\tvalidation_0-rmse:7.74080\tvalidation_1-rmse:7.73519\n",
      "[2]\tvalidation_0-rmse:5.43203\tvalidation_1-rmse:5.42855\n",
      "[3]\tvalidation_0-rmse:3.81601\tvalidation_1-rmse:3.81410\n",
      "[4]\tvalidation_0-rmse:2.68519\tvalidation_1-rmse:2.68470\n",
      "[5]\tvalidation_0-rmse:1.89434\tvalidation_1-rmse:1.89547\n",
      "[6]\tvalidation_0-rmse:1.34211\tvalidation_1-rmse:1.34517\n",
      "[7]\tvalidation_0-rmse:0.95783\tvalidation_1-rmse:0.96359\n",
      "[8]\tvalidation_0-rmse:0.69093\tvalidation_1-rmse:0.70028\n",
      "[9]\tvalidation_0-rmse:0.50689\tvalidation_1-rmse:0.52106\n",
      "[10]\tvalidation_0-rmse:0.38132\tvalidation_1-rmse:0.40162\n",
      "[11]\tvalidation_0-rmse:0.29643\tvalidation_1-rmse:0.32393\n",
      "[12]\tvalidation_0-rmse:0.23971\tvalidation_1-rmse:0.27491\n",
      "[13]\tvalidation_0-rmse:0.20240\tvalidation_1-rmse:0.24497\n",
      "[14]\tvalidation_0-rmse:0.17774\tvalidation_1-rmse:0.22682\n",
      "[15]\tvalidation_0-rmse:0.16120\tvalidation_1-rmse:0.21579\n",
      "[16]\tvalidation_0-rmse:0.14993\tvalidation_1-rmse:0.20900\n",
      "[17]\tvalidation_0-rmse:0.14200\tvalidation_1-rmse:0.20468\n",
      "[18]\tvalidation_0-rmse:0.13539\tvalidation_1-rmse:0.20146\n",
      "[19]\tvalidation_0-rmse:0.12967\tvalidation_1-rmse:0.19906\n",
      "[20]\tvalidation_0-rmse:0.12456\tvalidation_1-rmse:0.19717\n",
      "[21]\tvalidation_0-rmse:0.12022\tvalidation_1-rmse:0.19578\n",
      "[22]\tvalidation_0-rmse:0.11615\tvalidation_1-rmse:0.19460\n",
      "[23]\tvalidation_0-rmse:0.11244\tvalidation_1-rmse:0.19362\n",
      "[24]\tvalidation_0-rmse:0.10871\tvalidation_1-rmse:0.19270\n",
      "[25]\tvalidation_0-rmse:0.10557\tvalidation_1-rmse:0.19204\n",
      "[26]\tvalidation_0-rmse:0.10260\tvalidation_1-rmse:0.19144\n",
      "[27]\tvalidation_0-rmse:0.09961\tvalidation_1-rmse:0.19089\n",
      "[28]\tvalidation_0-rmse:0.09621\tvalidation_1-rmse:0.19021\n",
      "[29]\tvalidation_0-rmse:0.09317\tvalidation_1-rmse:0.18967\n",
      "Saving model to data/model_R_10_524288\n"
     ]
    }
   ],
   "source": [
    "emulator.fit()"
   ]
  },
  {
   "cell_type": "code",
   "execution_count": 7,
   "metadata": {
    "tags": []
   },
   "outputs": [
    {
     "name": "stdout",
     "output_type": "stream",
     "text": [
      "r2score on test: 0.9611614324935208\n",
      "mean squared error on test: 5.230764989206132\n",
      "mean absolute percentage error on : 46.49485874729342\n",
      "r2score on scaled test: 0.9956844439150501\n",
      "mean squared error on scaled test: 0.1896734938352187\n",
      "mean absolute percentage error on scaled test: 0.08769144571545857\n"
     ]
    }
   ],
   "source": [
    "y_predict_test = emulator.predict(emulator.X_test, shape='same')\n",
    "y_predict_test_scaled = emulator.model.predict(emulator.X_test)\n",
    "print('r2score on test:', r2_score(y_true=emulator.y_test, y_pred=y_predict_test))\n",
    "print('mean squared error on test:', np.sqrt(mean_squared_error(y_true=emulator.y_test, y_pred=y_predict_test)))\n",
    "print('mean absolute percentage error on :', mean_absolute_percentage_error(y_true=emulator.y_test, y_pred=y_predict_test))\n",
    "\n",
    "print('r2score on scaled test:', r2_score(y_true=emulator.output_scaling(emulator.y_test), y_pred=y_predict_test_scaled))\n",
    "print('mean squared error on scaled test:', np.sqrt(mean_squared_error(y_true=emulator.output_scaling(emulator.y_test), y_pred=y_predict_test_scaled)))\n",
    "print('mean absolute percentage error on scaled test:', mean_absolute_percentage_error(y_true=emulator.output_scaling(emulator.y_test), y_pred=y_predict_test_scaled))"
   ]
  },
  {
   "cell_type": "code",
   "execution_count": null,
   "metadata": {
    "tags": []
   },
   "outputs": [
    {
     "name": "stdout",
     "output_type": "stream",
     "text": [
      "r2score on train: 0.9988487232574982\n"
     ]
    }
   ],
   "source": [
    "y_predict_train = emulator.predict(emulator.X_train, shape='same')\n",
    "y_predict_train_scaled = emulator.model.predict(emulator.X_train)\n",
    "\n",
    "print('r2score on train:', r2_score(y_true=emulator.y_train, y_pred=y_predict_train))\n",
    "print('mean squared error on train:', np.sqrt(mean_squared_error(y_true=emulator.y_train, y_pred=y_predict_train)))\n",
    "print('mean absolute percentage error on train:', mean_absolute_percentage_error(y_true=emulator.y_train, y_pred=y_predict_train))\n",
    "\n",
    "print('r2score on scaled train:', r2_score(y_true=emulator.output_scaling(emulator.y_train), y_pred=y_predict_train_scaled, force_finite=True))\n",
    "print('mean absolute error on scaled train:', np.sqrt(mean_squared_error(y_true=emulator.output_scaling(emulator.y_train), y_pred=y_predict_train_scaled)))\n",
    "print('mean absolute percentage error on scaled train:', mean_absolute_percentage_error(y_true=emulator.output_scaling(emulator.y_train), y_pred=y_predict_train_scaled))"
   ]
  },
  {
   "cell_type": "code",
   "execution_count": null,
   "metadata": {
    "tags": []
   },
   "outputs": [],
   "source": [
    "y_predict = {'test': emulator.reshape(y_predict_test), 'train': emulator.reshape(y_predict_train)}\n",
    "y_true = {'test':emulator.reshape(emulator.y_test), 'train': emulator.reshape(emulator.y_train)}"
   ]
  },
  {
   "cell_type": "code",
   "execution_count": null,
   "metadata": {
    "tags": []
   },
   "outputs": [],
   "source": [
    "fig_tes, ax_tes = plt.subplots(1,1)\n",
    "def plot_single_prediction(index_frac, mode):\n",
    "    ax_tes.cla()\n",
    "    index = np.array([int(index_frac*len(y_predict[mode]))])\n",
    "    for fi in range(y_predict[mode].shape[1]):\n",
    "        x = opac.bin_edges[fi]+opac.weights.cumsum()*(opac.bin_edges[fi+1]-opac.bin_edges[fi])\n",
    "        lp, = ax_tes.loglog(x,y_predict[mode][index][0,fi,:], color ='red', alpha=0.5)\n",
    "        lt, = ax_tes.loglog(x,y_true[mode][index][0,fi,:], color = 'blue', alpha=0.5)\n",
    "        \n",
    "    # ax_tes.set_yscale('linear')\n",
    "    ax_tes.set_ylabel(r'$\\kappa$ [cm2/g]')\n",
    "    ax_tes.set_xlabel(r'wavenumber')\n",
    "    ax_tes.set_title(f'{mode} data, {index}')\n",
    "    ax_tes.legend([lp,lt],['prediction','true'])\n",
    "\n",
    "interact(plot_single_prediction, index_frac=FloatSlider(min=0., max=.99, step=0.05, value=0.), mode=Dropdown(options=['train','test']));"
   ]
  },
  {
   "cell_type": "code",
   "execution_count": null,
   "metadata": {
    "tags": []
   },
   "outputs": [],
   "source": [
    "fig_t, ax_t = plt.subplots(1,1) \n",
    "lt, = ax_t.plot(y_predict['test'][:,0,0], y_true['test'][:,0,0], 'ro', ms=0.01, linestyle=\"None\")\n",
    "ax_t.set_xscale('log')\n",
    "ax_t.set_yscale('log')\n",
    "dt, = ax_t.plot([y_predict['test'][:,0,0].min(), y_predict['test'][:,0,0].max()], [y_predict['test'][:,0,0].min(), y_predict['test'][:,0,0].max()], color = 'gray', ls = '--')\n",
    "ax_t.set_ylabel('true values')\n",
    "ax_t.set_xlabel('predicted values')\n",
    "    \n",
    "\n",
    "def update_prediction_test(freqi, gi, mode):\n",
    "    lt.set_ydata(y_true[mode][:,freqi,gi])\n",
    "    lt.set_xdata(y_predict[mode][:,freqi,gi])    \n",
    "    dt.set_ydata([y_predict[mode][:,freqi,gi].min(), y_predict[mode][:,freqi,gi].max()])\n",
    "    dt.set_xdata([y_predict[mode][:,freqi,gi].min(), y_predict[mode][:,freqi,gi].max()])\n",
    "    ax_t.set_xlim([y_true[mode][:,freqi,gi].min(),y_true[mode][:,freqi,gi].max()])\n",
    "    ax_t.set_ylim([y_true[mode][:,freqi,gi].min(),y_true[mode][:,freqi,gi].max()])        \n",
    "    ax_t.set_title(f'{mode} data variance')\n",
    "    fig_t.canvas.draw_idle()\n",
    "\n",
    "\n",
    "interact(update_prediction_test, freqi=IntSlider(min=0, max=opac.lf[0]-1, step=1, value=0),gi=IntSlider(min=0, max=opac.lg[0]-1, step=1, value=0), mode=Dropdown(options=['train','test']));"
   ]
  },
  {
   "cell_type": "code",
   "execution_count": null,
   "metadata": {},
   "outputs": [],
   "source": []
  }
 ],
 "metadata": {
  "kernelspec": {
   "display_name": "Python 3 (ipykernel)",
   "language": "python",
   "name": "python3"
  },
  "language_info": {
   "codemirror_mode": {
    "name": "ipython",
    "version": 3
   },
   "file_extension": ".py",
   "mimetype": "text/x-python",
   "name": "python",
   "nbconvert_exporter": "python",
   "pygments_lexer": "ipython3",
   "version": "3.10.9"
  },
  "vscode": {
   "interpreter": {
    "hash": "32cbc4f42371f953923e9a7e417846d947d932a8ed2024fa1bd37e8b68573f52"
   }
  }
 },
 "nbformat": 4,
 "nbformat_minor": 4
}
