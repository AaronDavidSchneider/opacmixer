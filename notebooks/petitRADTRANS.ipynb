{
 "cells": [
  {
   "cell_type": "markdown",
   "metadata": {},
   "source": [
    "# Patching petitRADTRANS with the opac_mixer"
   ]
  },
  {
   "cell_type": "code",
   "execution_count": 1,
   "metadata": {
    "ExecuteTime": {
     "end_time": "2023-05-08T11:08:40.715175Z",
     "start_time": "2023-05-08T11:08:30.716912Z"
    }
   },
   "outputs": [],
   "source": [
    "import numpy as np\n",
    "import glob\n",
    "import os\n",
    "from opac_mixer.read import ReadOpacChubb\n",
    "\n",
    "import matplotlib.pyplot as plt\n",
    "\n",
    "from opac_mixer.patches.prt import PatchedRadtrans\n",
    "from petitRADTRANS import nat_cst as nc\n",
    "\n",
    "from ipywidgets import interact, FloatSlider\n",
    "\n",
    "from petitRADTRANS.poor_mans_nonequ_chem import interpol_abundances\n",
    "from petitRADTRANS.physics import guillot_global\n",
    "\n",
    "# %matplotlib widget\n",
    "%matplotlib osx"
   ]
  },
  {
   "cell_type": "markdown",
   "metadata": {},
   "source": [
    "## Setup"
   ]
  },
  {
   "cell_type": "code",
   "execution_count": 2,
   "metadata": {
    "ExecuteTime": {
     "end_time": "2023-05-08T11:08:40.720957Z",
     "start_time": "2023-05-08T11:08:40.718275Z"
    }
   },
   "outputs": [],
   "source": [
    "pressures = np.logspace(-6, 2, 10)"
   ]
  },
  {
   "cell_type": "code",
   "execution_count": 3,
   "metadata": {
    "tags": [],
    "ExecuteTime": {
     "end_time": "2023-05-08T11:08:40.725374Z",
     "start_time": "2023-05-08T11:08:40.721263Z"
    }
   },
   "outputs": [],
   "source": [
    "R='S1'\n",
    "# R = '10'"
   ]
  },
  {
   "cell_type": "code",
   "execution_count": null,
   "outputs": [],
   "source": [],
   "metadata": {
    "collapsed": false
   }
  },
  {
   "cell_type": "code",
   "execution_count": 4,
   "metadata": {
    "ExecuteTime": {
     "end_time": "2023-05-08T11:08:40.731267Z",
     "start_time": "2023-05-08T11:08:40.727429Z"
    }
   },
   "outputs": [],
   "source": [
    "mixmethod = 'deepset'\n",
    "# mixmethod = 'aee'\n",
    "# mixmethod = 'add'"
   ]
  },
  {
   "cell_type": "code",
   "execution_count": 5,
   "metadata": {
    "ExecuteTime": {
     "end_time": "2023-05-08T11:08:40.738039Z",
     "start_time": "2023-05-08T11:08:40.734329Z"
    }
   },
   "outputs": [],
   "source": [
    "weights = [np.load('data/mix_S1/ml_coeff_0.npy'), np.load('data/mix_S1/ml_coeff_1.npy')]"
   ]
  },
  {
   "cell_type": "code",
   "execution_count": 6,
   "metadata": {
    "ExecuteTime": {
     "end_time": "2023-05-08T11:08:40.757410Z",
     "start_time": "2023-05-08T11:08:40.740279Z"
    }
   },
   "outputs": [],
   "source": [
    "# use the default input and output scaling of the opac_mixer package (see opac_mixer.scalings)\n",
    "input_scaling = None\n",
    "inverse_output_scaling = None"
   ]
  },
  {
   "cell_type": "code",
   "execution_count": 7,
   "metadata": {
    "ExecuteTime": {
     "end_time": "2023-05-08T11:08:40.993525Z",
     "start_time": "2023-05-08T11:08:40.746540Z"
    }
   },
   "outputs": [],
   "source": [
    "base = f'{os.environ[\"pRT_input_data_path\"]}/opacities/lines/corr_k'\n",
    "files = glob.glob(os.path.join(base,f'*_R_{R}/*.h5'))\n",
    "\n",
    "opac = ReadOpacChubb(files)\n",
    "opac.read_opac()"
   ]
  },
  {
   "cell_type": "code",
   "execution_count": 8,
   "metadata": {
    "tags": [],
    "ExecuteTime": {
     "end_time": "2023-05-08T11:08:45.214148Z",
     "start_time": "2023-05-08T11:08:40.994011Z"
    }
   },
   "outputs": [
    {
     "name": "stderr",
     "output_type": "stream",
     "text": [
      "/Users/schneider/anaconda3/envs/ml/lib/python3.10/site-packages/petitRADTRANS/radtrans.py:100: FutureWarning: pRT_input_data_path was set by an environment variable. In a future update, the path to the petitRADTRANS input_data will be set within a .ini file that will be automatically generated into the user home directory (OS agnostic), inside a .petitradtrans directory\n",
      "  warnings.warn(f\"pRT_input_data_path was set by an environment variable. In a future update, the path to \"\n"
     ]
    },
    {
     "name": "stdout",
     "output_type": "stream",
     "text": [
      "  Read line opacities of NH3_R_S1...\n",
      " Done.\n",
      "  Read line opacities of CO_all_iso_Chubb_R_S1...\n",
      " Done.\n",
      "  Read line opacities of TiO_all_Exomol_R_S1...\n",
      " Done.\n",
      "  Read line opacities of H2O_Exomol_R_S1...\n",
      " Done.\n",
      "  Read line opacities of PH3_R_S1...\n",
      " Done.\n",
      "  Read line opacities of VO_R_S1...\n",
      " Done.\n",
      "  Read line opacities of HCN_R_S1...\n",
      " Done.\n",
      "  Read line opacities of Na_allard_R_S1...\n",
      " Done.\n",
      "  Read line opacities of FeH_R_S1...\n",
      " Done.\n",
      "  Read line opacities of SiO_R_S1...\n",
      " Done.\n",
      "  Read line opacities of K_allard_R_S1...\n",
      " Done.\n",
      "  Read line opacities of CO2_R_S1...\n",
      " Done.\n",
      "  Read line opacities of H2S_R_S1...\n",
      " Done.\n",
      "  Read line opacities of CH4_R_S1...\n",
      " Done.\n",
      "\n",
      "  Read line opacities of NH3_R_S1...\n",
      " Done.\n",
      "  Read line opacities of CO_all_iso_Chubb_R_S1...\n",
      " Done.\n",
      "  Read line opacities of TiO_all_Exomol_R_S1...\n",
      " Done.\n",
      "  Read line opacities of H2O_Exomol_R_S1...\n",
      " Done.\n",
      "  Read line opacities of PH3_R_S1...\n",
      " Done.\n",
      "  Read line opacities of VO_R_S1...\n",
      " Done.\n",
      "  Read line opacities of HCN_R_S1...\n",
      " Done.\n",
      "  Read line opacities of Na_allard_R_S1...\n",
      " Done.\n",
      "  Read line opacities of FeH_R_S1...\n",
      " Done.\n",
      "  Read line opacities of SiO_R_S1...\n",
      " Done.\n",
      "  Read line opacities of K_allard_R_S1...\n",
      " Done.\n",
      "  Read line opacities of CO2_R_S1...\n",
      " Done.\n",
      "  Read line opacities of H2S_R_S1...\n",
      " Done.\n",
      "  Read line opacities of CH4_R_S1...\n",
      " Done.\n",
      "\n",
      "Warning: Default scaling is used for the input, change if needed\n",
      "Warning: Default scaling is used for the output, change if needed\n"
     ]
    }
   ],
   "source": [
    "linespecies = [f.split('/')[-1].split('.')[0] for f in files]\n",
    "atmosphere_orig = PatchedRadtrans(line_species=linespecies, pressures=pressures, wlen_bords_micron=[(1e4/opac.bin_edges).min(), (1e4/opac.bin_edges).max()])\n",
    "atmosphere = PatchedRadtrans(line_species=linespecies, pressures=pressures, wlen_bords_micron=[(1e4/opac.bin_edges).min(), (1e4/opac.bin_edges).max()])\n",
    "atmosphere.setup_mixing(mixmethod=mixmethod, weights=weights, input_scaling=None, inverse_output_scaling=None)\n",
    "atmosphere_orig.setup_mixing(mixmethod='rorr')\n"
   ]
  },
  {
   "cell_type": "markdown",
   "source": [
    "## top of the atmosphere (TOA) flux"
   ],
   "metadata": {
    "collapsed": false
   }
  },
  {
   "cell_type": "code",
   "execution_count": 14,
   "metadata": {
    "tags": [],
    "ExecuteTime": {
     "end_time": "2023-05-08T11:10:55.073679Z",
     "start_time": "2023-05-08T11:10:54.925805Z"
    }
   },
   "outputs": [
    {
     "data": {
      "text/plain": "interactive(children=(FloatSlider(value=0.4, description='gamma', max=10.0, step=0.2), FloatSlider(value=100.0…",
      "application/vnd.jupyter.widget-view+json": {
       "version_major": 2,
       "version_minor": 0,
       "model_id": "5390f4f97cf34cf4a18c284b1f0688c7"
      }
     },
     "metadata": {},
     "output_type": "display_data"
    }
   ],
   "source": [
    "fig_fl, ax_fl = plt.subplots(2,1, constrained_layout=True)\n",
    "\n",
    "@interact(gamma=FloatSlider(min=0.0, max=10.0, step=0.2, value=0.4), T_int=FloatSlider(min=0.,max=1000,step=100., value=100.), T_equ=FloatSlider(min=0.,max=2000.,step=100., value=1000.))\n",
    "def plot_flux_toa(gamma, T_int, T_equ):\n",
    "    for axi in ax_fl:\n",
    "        axi.cla()\n",
    "    \n",
    "    kappa_IR = 0.05      \n",
    "    Tstar=6000\n",
    "    Rstar=1.0*nc.r_sun\n",
    "    semimajoraxis=0.01*nc.AU\n",
    "    gravity = 1e1**2.45\n",
    "    geometry='dayside_ave'\n",
    "\n",
    "    # temperature = chubb.Tr\n",
    "    temperature = guillot_global(pressures, kappa_IR, gamma, gravity, T_int, T_equ)\n",
    "\n",
    "    COs = 0.55 * np.ones_like(pressures)\n",
    "    FeHs = 0. * np.ones_like(pressures)\n",
    "\n",
    "    mass_fractions = interpol_abundances(COs, \\\n",
    "                FeHs, \\\n",
    "                temperature, \\\n",
    "                pressures)\n",
    "\n",
    "    for sp in linespecies:\n",
    "        mass_fractions[sp] = mass_fractions.pop(sp.split('_')[0])            \n",
    "    \n",
    "    atmosphere_orig.calc_flux(temperature, mass_fractions, gravity, mass_fractions['MMW'], Rstar=Rstar, Tstar=Tstar, semimajoraxis=semimajoraxis, geometry=geometry)\n",
    "    atmosphere.calc_flux(temperature, mass_fractions, gravity, mass_fractions['MMW'], Rstar=Rstar, Tstar=Tstar, semimajoraxis=semimajoraxis, geometry=geometry)\n",
    "\n",
    "    bol_orig =np.sum(atmosphere_orig.flux*np.diff(atmosphere_orig.border_freqs))\n",
    "    bol = np.sum(atmosphere.flux*np.diff(atmosphere.border_freqs))\n",
    "    print('relative bolometric error on calculated flux:', (bol_orig-bol)/bol)\n",
    "\n",
    "    ax_fl[0].plot(nc.c/atmosphere_orig.freq*1e4, atmosphere_orig.flux, label ='original')\n",
    "    ax_fl[0].plot(nc.c/atmosphere.freq*1e4, atmosphere.flux, label ='emulator')\n",
    "    ax_fl[0].set_xscale('log')\n",
    "    ax_fl[0].set_xlabel(r'$\\lambda$ / $\\mu$m')\n",
    "    ax_fl[0].set_ylabel(r'$F_\\nu$ / cgs')\n",
    "    ax_fl[1].loglog(temperature, pressures)\n",
    "    ax_fl[1].set_ylabel(r'pressure / bar')\n",
    "    ax_fl[1].set_xlabel('temperature')\n",
    "    ax_fl[1].invert_yaxis()\n",
    "    ax_fl[0].legend()\n"
   ]
  },
  {
   "cell_type": "markdown",
   "source": [
    "## Bolometric fluxes and heating rates"
   ],
   "metadata": {
    "collapsed": false
   }
  },
  {
   "cell_type": "code",
   "execution_count": 16,
   "metadata": {
    "ExecuteTime": {
     "end_time": "2023-05-08T11:13:27.023472Z",
     "start_time": "2023-05-08T11:13:26.863981Z"
    }
   },
   "outputs": [
    {
     "data": {
      "text/plain": "interactive(children=(FloatSlider(value=0.4, description='gamma', max=10.0, step=0.2), FloatSlider(value=100.0…",
      "application/vnd.jupyter.widget-view+json": {
       "version_major": 2,
       "version_minor": 0,
       "model_id": "db458310d3b14a08858d300afba8b0ce"
      }
     },
     "metadata": {},
     "output_type": "display_data"
    }
   ],
   "source": [
    "fig_flb, ax_flb = plt.subplots(1, 3, sharey= True, constrained_layout=True)\n",
    "\n",
    "@interact(gamma=FloatSlider(min=0.0, max=10.0, step=0.2, value=0.4), T_int=FloatSlider(min=0.,max=1000,step=100., value=100.), T_equ=FloatSlider(min=0.,max=2000.,step=100., value=1000.))\n",
    "def plot_flux_bol(gamma, T_int, T_equ):\n",
    "    for axi in ax_flb:\n",
    "        axi.cla()\n",
    "    \n",
    "    kappa_IR = 0.05      \n",
    "    Tstar=6000\n",
    "    Rstar=1.0*nc.r_sun\n",
    "    semimajoraxis=0.01*nc.AU\n",
    "    gravity = 1e1**2.45\n",
    "    geometry='dayside_ave'\n",
    "\n",
    "    # temperature = chubb.Tr\n",
    "    temperature = guillot_global(pressures, kappa_IR, gamma, gravity, T_int, T_equ)\n",
    "\n",
    "    COs = 0.55 * np.ones_like(pressures)\n",
    "    FeHs = 0. * np.ones_like(pressures)\n",
    "\n",
    "    mass_fractions = interpol_abundances(COs, \\\n",
    "                FeHs, \\\n",
    "                temperature, \\\n",
    "                pressures)\n",
    "\n",
    "    for sp in linespecies:\n",
    "        mass_fractions[sp] = mass_fractions.pop(sp.split('_')[0])            \n",
    "    \n",
    "    atmosphere_orig.calc_bolometric_flux(temperature, mass_fractions, gravity, mass_fractions['MMW'], Rstar=Rstar, Tstar=Tstar, semimajoraxis=semimajoraxis, geometry=geometry)\n",
    "    atmosphere.calc_bolometric_flux(temperature, mass_fractions, gravity, mass_fractions['MMW'], Rstar=Rstar, Tstar=Tstar, semimajoraxis=semimajoraxis, geometry=geometry)\n",
    "\n",
    "    p_e = atmosphere.press/1e6\n",
    "    p_c = .5*(p_e[1:]+p_e[:-1])\n",
    "\n",
    "    ax_flb[0].plot(atmosphere.flux_bol, p_e, label ='emulator')\n",
    "    ax_flb[0].plot(atmosphere_orig.flux_bol, p_e, label ='original')\n",
    "    ax_flb[1].plot(np.diff(atmosphere.flux_bol)/np.diff(p_e), p_c, label ='emulator')\n",
    "    ax_flb[1].plot(np.diff(atmosphere_orig.flux_bol)/np.diff(p_e), p_c, label ='original')\n",
    "    ax_flb[2].loglog(temperature, pressures)\n",
    "    ax_flb[1].set_yscale('log')\n",
    "    ax_flb[0].set_yscale('log')\n",
    "    ax_flb[0].set_xscale('log')\n",
    "    ax_flb[0].set_xlabel('F / cgs')\n",
    "    ax_flb[1].set_xlabel('heatingrate / cgs')\n",
    "    ax_flb[2].set_xlabel('temperature / K')\n",
    "    ax_flb[0].set_ylabel('pressure / bar')\n",
    "    # ax_fl[1].set_xscale('log')\n",
    "    ax_flb[1].invert_yaxis()\n",
    "    ax_flb[2].invert_yaxis()\n",
    "    ax_flb[0].invert_yaxis()\n",
    "    ax_flb[0].legend()\n",
    "\n",
    "    print('times: orig, fake, speedup',atmosphere_orig.time_opa, atmosphere.time_opa, atmosphere_orig.time_opa/atmosphere.time_opa)\n"
   ]
  },
  {
   "cell_type": "markdown",
   "source": [
    "## Kappas"
   ],
   "metadata": {
    "collapsed": false
   }
  },
  {
   "cell_type": "code",
   "execution_count": 19,
   "metadata": {
    "tags": [],
    "ExecuteTime": {
     "end_time": "2023-05-08T11:16:18.587802Z",
     "start_time": "2023-05-08T11:16:18.103470Z"
    }
   },
   "outputs": [
    {
     "data": {
      "text/plain": "interactive(children=(FloatSlider(value=0.4, description='gamma', max=10.0, step=0.2), FloatSlider(value=100.0…",
      "application/vnd.jupyter.widget-view+json": {
       "version_major": 2,
       "version_minor": 0,
       "model_id": "dbba3d57135147798d8d9e2e9d0e65de"
      }
     },
     "metadata": {},
     "output_type": "display_data"
    }
   ],
   "source": [
    "fig_kappa, ax_kappa = plt.subplots(10,1, figsize = (4,8), constrained_layout=True, sharex=True)\n",
    "\n",
    "@interact(gamma=FloatSlider(min=0.0, max=10.0, step=0.2, value=0.4), T_int=FloatSlider(min=0.,max=1000,step=100., value=100.), T_equ=FloatSlider(min=0.,max=2000.,step=100., value=1000.))\n",
    "def plot_eq_chem(gamma, T_int, T_equ):\n",
    "    for axi in ax_kappa:\n",
    "        axi.cla()  \n",
    "    \n",
    "    kappa_IR = 0.05      \n",
    "    Tstar=6000\n",
    "    Rstar=1.0*nc.r_sun\n",
    "    semimajoraxis=0.01*nc.AU\n",
    "    gravity = 1e1**2.45\n",
    "    geometry='dayside_ave'\n",
    "\n",
    "    # temperature = chubb.Tr\n",
    "    temperature = guillot_global(pressures, kappa_IR, gamma, gravity, T_int, T_equ)\n",
    "\n",
    "    COs = 0.55 * np.ones_like(pressures)\n",
    "    FeHs = 0. * np.ones_like(pressures)\n",
    "\n",
    "    mass_fractions = interpol_abundances(COs, \\\n",
    "                FeHs, \\\n",
    "                temperature, \\\n",
    "                pressures)\n",
    "\n",
    "    for sp in linespecies:\n",
    "        mass_fractions[sp] = mass_fractions.pop(sp.split('_')[0])   \n",
    "\n",
    "    x_predict = np.empty((len(atmosphere.press),opac.ls+2))\n",
    "\n",
    "    spec_names = {sp.split('_')[0]: sp for sp in atmosphere.line_species}\n",
    "\n",
    "    for i, spec in enumerate(opac.spec):\n",
    "        x_predict[:,i] = mass_fractions[spec_names[spec]]\n",
    "\n",
    "    x_predict[:, -2] = atmosphere.press/1e6\n",
    "    x_predict[:, -1] = temperature\n",
    "\n",
    "    atmosphere.calc_flux(temperature, mass_fractions, gravity, mass_fractions['MMW'], Rstar=Rstar, Tstar=Tstar, semimajoraxis=semimajoraxis, geometry=geometry)\n",
    "    line_struc_kappas_fake = atmosphere.line_struc_kappas[:,:,0,:]\n",
    "\n",
    "    atmosphere_orig.calc_flux(temperature, mass_fractions, gravity, mass_fractions['MMW'], Rstar=Rstar, Tstar=Tstar, semimajoraxis=semimajoraxis, geometry=geometry)\n",
    "    line_struc_kappas_orig = atmosphere_orig.line_struc_kappas[:,:,0,:]\n",
    "    \n",
    "    for i, p in enumerate(atmosphere.press):\n",
    "        ax_kappa[i].plot(line_struc_kappas_fake[:,:,i].T.flatten(), ls = '-', alpha=0.4)\n",
    "        ax_kappa[i].plot(line_struc_kappas_orig[:,:,i].T.flatten(), ls = '--', alpha=0.4)\n",
    "    \n",
    "        ax_kappa[i].set_yscale('log')\n",
    "        ax_kappa[i].set_ylabel(\"$\\kappa$ / cm2/g\")\n",
    "\n",
    "    ax_kappa[-1].set_xlabel(r\"$\\nu\\cdot g$\")"
   ]
  }
 ],
 "metadata": {
  "kernelspec": {
   "display_name": "Python 3 (ipykernel)",
   "language": "python",
   "name": "python3"
  },
  "language_info": {
   "codemirror_mode": {
    "name": "ipython",
    "version": 3
   },
   "file_extension": ".py",
   "mimetype": "text/x-python",
   "name": "python",
   "nbconvert_exporter": "python",
   "pygments_lexer": "ipython3",
   "version": "3.10.9"
  },
  "vscode": {
   "interpreter": {
    "hash": "32cbc4f42371f953923e9a7e417846d947d932a8ed2024fa1bd37e8b68573f52"
   }
  }
 },
 "nbformat": 4,
 "nbformat_minor": 4
}
