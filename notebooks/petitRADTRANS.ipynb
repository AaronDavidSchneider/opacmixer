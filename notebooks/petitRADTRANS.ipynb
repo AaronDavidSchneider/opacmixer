{
 "cells": [
  {
   "cell_type": "markdown",
   "metadata": {},
   "source": [
    "# Patching petitRADTRANS with the opac_mixer"
   ]
  },
  {
   "cell_type": "code",
   "execution_count": 1,
   "metadata": {
    "ExecuteTime": {
     "end_time": "2023-05-08T14:48:54.318496Z",
     "start_time": "2023-05-08T14:48:45.719087Z"
    }
   },
   "outputs": [],
   "source": [
    "import numpy as np\n",
    "import glob\n",
    "import os\n",
    "from opac_mixer.read import ReadOpacChubb\n",
    "\n",
    "import matplotlib.pyplot as plt\n",
    "\n",
    "from opac_mixer.patches.prt import PatchedRadtrans\n",
    "from petitRADTRANS import nat_cst as nc\n",
    "\n",
    "from ipywidgets import interact, FloatSlider\n",
    "\n",
    "from petitRADTRANS.poor_mans_nonequ_chem import interpol_abundances\n",
    "from petitRADTRANS.physics import guillot_global\n",
    "\n",
    "# %matplotlib widget\n",
    "%matplotlib osx"
   ]
  },
  {
   "cell_type": "markdown",
   "metadata": {},
   "source": [
    "## Setup"
   ]
  },
  {
   "cell_type": "code",
   "execution_count": 2,
   "metadata": {
    "ExecuteTime": {
     "end_time": "2023-05-08T14:48:54.322974Z",
     "start_time": "2023-05-08T14:48:54.321199Z"
    }
   },
   "outputs": [],
   "source": [
    "pressures = np.logspace(-6, 2, 10)"
   ]
  },
  {
   "cell_type": "markdown",
   "source": [],
   "metadata": {
    "collapsed": false
   }
  },
  {
   "cell_type": "code",
   "execution_count": 3,
   "metadata": {
    "tags": [],
    "ExecuteTime": {
     "end_time": "2023-05-08T14:48:54.328602Z",
     "start_time": "2023-05-08T14:48:54.324992Z"
    }
   },
   "outputs": [],
   "source": [
    "R='S1'\n",
    "# R = '10'\n",
    "# R = '100'"
   ]
  },
  {
   "cell_type": "code",
   "execution_count": 12,
   "metadata": {
    "ExecuteTime": {
     "end_time": "2023-05-08T14:50:56.183905Z",
     "start_time": "2023-05-08T14:50:56.179986Z"
    }
   },
   "outputs": [],
   "source": [
    "mixmethods = ['add', 'aee', 'aee_jit', 'deepset', 'rorr']\n",
    "# mixmethods = ['aee', 'aee_jit']"
   ]
  },
  {
   "cell_type": "code",
   "execution_count": 13,
   "metadata": {
    "ExecuteTime": {
     "end_time": "2023-05-08T14:50:56.545560Z",
     "start_time": "2023-05-08T14:50:56.539215Z"
    }
   },
   "outputs": [],
   "source": [
    "weights = [np.load('data/mix_S1/ml_coeff_0.npy'), np.load('data/mix_S1/ml_coeff_1.npy')]"
   ]
  },
  {
   "cell_type": "code",
   "execution_count": 14,
   "metadata": {
    "ExecuteTime": {
     "end_time": "2023-05-08T14:50:56.735765Z",
     "start_time": "2023-05-08T14:50:56.732749Z"
    }
   },
   "outputs": [],
   "source": [
    "# use the default input and output scaling of the opac_mixer package (see opac_mixer.scalings)\n",
    "input_scaling = None\n",
    "inverse_output_scaling = None"
   ]
  },
  {
   "cell_type": "code",
   "execution_count": 15,
   "metadata": {
    "ExecuteTime": {
     "end_time": "2023-05-08T14:50:57.074642Z",
     "start_time": "2023-05-08T14:50:56.904465Z"
    }
   },
   "outputs": [],
   "source": [
    "base = f'{os.environ[\"pRT_input_data_path\"]}/opacities/lines/corr_k'\n",
    "files = glob.glob(os.path.join(base,f'*_R_{R}/*.h5'))\n",
    "\n",
    "opac = ReadOpacChubb(files)\n",
    "opac.read_opac()"
   ]
  },
  {
   "cell_type": "code",
   "execution_count": 16,
   "metadata": {
    "tags": [],
    "ExecuteTime": {
     "end_time": "2023-05-08T14:51:07.754182Z",
     "start_time": "2023-05-08T14:50:57.804771Z"
    }
   },
   "outputs": [
    {
     "name": "stdout",
     "output_type": "stream",
     "text": [
      "  Read line opacities of NH3_R_S1...\n",
      " Done.\n",
      "  Read line opacities of CO_all_iso_Chubb_R_S1...\n",
      " Done.\n",
      "  Read line opacities of TiO_all_Exomol_R_S1...\n",
      " Done.\n",
      "  Read line opacities of H2O_Exomol_R_S1...\n",
      " Done.\n",
      "  Read line opacities of PH3_R_S1...\n",
      " Done.\n",
      "  Read line opacities of VO_R_S1...\n",
      " Done.\n",
      "  Read line opacities of HCN_R_S1...\n",
      " Done.\n",
      "  Read line opacities of Na_allard_R_S1...\n",
      " Done.\n",
      "  Read line opacities of FeH_R_S1...\n",
      " Done.\n",
      "  Read line opacities of SiO_R_S1...\n",
      " Done.\n",
      "  Read line opacities of K_allard_R_S1...\n",
      " Done.\n",
      "  Read line opacities of CO2_R_S1...\n",
      " Done.\n",
      "  Read line opacities of H2S_R_S1...\n",
      " Done.\n",
      "  Read line opacities of CH4_R_S1...\n",
      " Done.\n",
      "\n",
      "  Read line opacities of NH3_R_S1...\n",
      " Done.\n",
      "  Read line opacities of CO_all_iso_Chubb_R_S1...\n",
      " Done.\n",
      "  Read line opacities of TiO_all_Exomol_R_S1...\n",
      " Done.\n",
      "  Read line opacities of H2O_Exomol_R_S1...\n",
      " Done.\n",
      "  Read line opacities of PH3_R_S1...\n",
      " Done.\n",
      "  Read line opacities of VO_R_S1...\n",
      " Done.\n",
      "  Read line opacities of HCN_R_S1...\n",
      " Done.\n",
      "  Read line opacities of Na_allard_R_S1...\n",
      " Done.\n",
      "  Read line opacities of FeH_R_S1...\n",
      " Done.\n",
      "  Read line opacities of SiO_R_S1...\n",
      " Done.\n",
      "  Read line opacities of K_allard_R_S1...\n",
      " Done.\n",
      "  Read line opacities of CO2_R_S1...\n",
      " Done.\n",
      "  Read line opacities of H2S_R_S1...\n",
      " Done.\n",
      "  Read line opacities of CH4_R_S1...\n",
      " Done.\n",
      "\n",
      "  Read line opacities of NH3_R_S1...\n",
      " Done.\n",
      "  Read line opacities of CO_all_iso_Chubb_R_S1...\n",
      " Done.\n",
      "  Read line opacities of TiO_all_Exomol_R_S1...\n",
      " Done.\n",
      "  Read line opacities of H2O_Exomol_R_S1...\n",
      " Done.\n",
      "  Read line opacities of PH3_R_S1...\n",
      " Done.\n",
      "  Read line opacities of VO_R_S1...\n",
      " Done.\n",
      "  Read line opacities of HCN_R_S1...\n",
      " Done.\n",
      "  Read line opacities of Na_allard_R_S1...\n",
      " Done.\n",
      "  Read line opacities of FeH_R_S1...\n",
      " Done.\n",
      "  Read line opacities of SiO_R_S1...\n",
      " Done.\n",
      "  Read line opacities of K_allard_R_S1...\n",
      " Done.\n",
      "  Read line opacities of CO2_R_S1...\n",
      " Done.\n",
      "  Read line opacities of H2S_R_S1...\n",
      " Done.\n",
      "  Read line opacities of CH4_R_S1...\n",
      " Done.\n",
      "\n",
      "  Read line opacities of NH3_R_S1...\n",
      " Done.\n",
      "  Read line opacities of CO_all_iso_Chubb_R_S1...\n",
      " Done.\n",
      "  Read line opacities of TiO_all_Exomol_R_S1...\n",
      " Done.\n",
      "  Read line opacities of H2O_Exomol_R_S1...\n",
      " Done.\n",
      "  Read line opacities of PH3_R_S1...\n",
      " Done.\n",
      "  Read line opacities of VO_R_S1...\n",
      " Done.\n",
      "  Read line opacities of HCN_R_S1...\n",
      " Done.\n",
      "  Read line opacities of Na_allard_R_S1...\n",
      " Done.\n",
      "  Read line opacities of FeH_R_S1...\n",
      " Done.\n",
      "  Read line opacities of SiO_R_S1...\n",
      " Done.\n",
      "  Read line opacities of K_allard_R_S1...\n",
      " Done.\n",
      "  Read line opacities of CO2_R_S1...\n",
      " Done.\n",
      "  Read line opacities of H2S_R_S1...\n",
      " Done.\n",
      "  Read line opacities of CH4_R_S1...\n",
      " Done.\n",
      "\n",
      "Warning: Default scaling is used for the input, change if needed\n",
      "Warning: Default scaling is used for the output, change if needed\n",
      "  Read line opacities of NH3_R_S1...\n",
      " Done.\n",
      "  Read line opacities of CO_all_iso_Chubb_R_S1...\n",
      " Done.\n",
      "  Read line opacities of TiO_all_Exomol_R_S1...\n",
      " Done.\n",
      "  Read line opacities of H2O_Exomol_R_S1...\n",
      " Done.\n",
      "  Read line opacities of PH3_R_S1...\n",
      " Done.\n",
      "  Read line opacities of VO_R_S1...\n",
      " Done.\n",
      "  Read line opacities of HCN_R_S1...\n",
      " Done.\n",
      "  Read line opacities of Na_allard_R_S1...\n",
      " Done.\n",
      "  Read line opacities of FeH_R_S1...\n",
      " Done.\n",
      "  Read line opacities of SiO_R_S1...\n",
      " Done.\n",
      "  Read line opacities of K_allard_R_S1...\n",
      " Done.\n",
      "  Read line opacities of CO2_R_S1...\n",
      " Done.\n",
      "  Read line opacities of H2S_R_S1...\n",
      " Done.\n",
      "  Read line opacities of CH4_R_S1...\n",
      " Done.\n",
      "\n"
     ]
    }
   ],
   "source": [
    "linespecies = [f.split('/')[-1].split('.')[0] for f in files]\n",
    "atmospheres = []\n",
    "for mixm in mixmethods:\n",
    "    atmosphere = PatchedRadtrans(line_species=linespecies, pressures=pressures, wlen_bords_micron=[(1e4/opac.bin_edges).min(), (1e4/opac.bin_edges).max()])\n",
    "    atmosphere.setup_mixing(mixmethod=mixm, weights=weights, input_scaling=None, inverse_output_scaling=None)\n",
    "    atmospheres.append(atmosphere)\n"
   ]
  },
  {
   "cell_type": "markdown",
   "source": [
    "## top of the atmosphere (TOA) flux"
   ],
   "metadata": {
    "collapsed": false
   }
  },
  {
   "cell_type": "code",
   "execution_count": 17,
   "metadata": {
    "tags": [],
    "ExecuteTime": {
     "end_time": "2023-05-08T14:51:07.869174Z",
     "start_time": "2023-05-08T14:51:07.753314Z"
    }
   },
   "outputs": [
    {
     "data": {
      "text/plain": "interactive(children=(FloatSlider(value=0.4, description='gamma', max=10.0, step=0.2), FloatSlider(value=100.0…",
      "application/vnd.jupyter.widget-view+json": {
       "version_major": 2,
       "version_minor": 0,
       "model_id": "0a9b0676766a4cb989f15273237b7d2a"
      }
     },
     "metadata": {},
     "output_type": "display_data"
    }
   ],
   "source": [
    "fig_fl, ax_fl = plt.subplots(2,1, constrained_layout=True)\n",
    "\n",
    "@interact(gamma=FloatSlider(min=0.0, max=10.0, step=0.2, value=0.4), T_int=FloatSlider(min=0.,max=1000,step=100., value=100.), T_equ=FloatSlider(min=0.,max=2000.,step=100., value=1000.))\n",
    "def plot_flux_toa(gamma, T_int, T_equ):\n",
    "    for axi in ax_fl:\n",
    "        axi.cla()\n",
    "    \n",
    "    kappa_IR = 0.05      \n",
    "    Tstar=6000\n",
    "    Rstar=1.0*nc.r_sun\n",
    "    semimajoraxis=0.01*nc.AU\n",
    "    gravity = 1e1**2.45\n",
    "    geometry='dayside_ave'\n",
    "\n",
    "    # temperature = chubb.Tr\n",
    "    temperature = guillot_global(pressures, kappa_IR, gamma, gravity, T_int, T_equ)\n",
    "\n",
    "    COs = 0.55 * np.ones_like(pressures)\n",
    "    FeHs = 0. * np.ones_like(pressures)\n",
    "\n",
    "    mass_fractions = interpol_abundances(COs, \\\n",
    "                FeHs, \\\n",
    "                temperature, \\\n",
    "                pressures)\n",
    "\n",
    "    for sp in linespecies:\n",
    "        mass_fractions[sp] = mass_fractions.pop(sp.split('_')[0])            \n",
    "\n",
    "    bols = []\n",
    "    for atmosphere, mixm in zip(atmospheres, mixmethods):\n",
    "        atmosphere.calc_flux(temperature, mass_fractions, gravity, mass_fractions['MMW'], Rstar=Rstar, Tstar=Tstar, semimajoraxis=semimajoraxis, geometry=geometry)\n",
    "        bol = np.sum(atmosphere.flux*np.diff(atmosphere.border_freqs))\n",
    "        bols.append(bol)\n",
    "\n",
    "    bols = np.array(bols)\n",
    "\n",
    "    print('relative bolometric error on calculated flux:', (bols[0]-bols[:])/bols[0])\n",
    "\n",
    "    for atmosphere, mixm in zip(atmospheres, mixmethods):\n",
    "        ax_fl[0].plot(nc.c/atmosphere.freq*1e4, atmosphere.flux, label = mixm)\n",
    "\n",
    "    ax_fl[0].set_xscale('log')\n",
    "    ax_fl[0].set_xlabel(r'$\\lambda$ / $\\mu$m')\n",
    "    ax_fl[0].set_ylabel(r'$F_\\nu$ / cgs')\n",
    "    ax_fl[1].loglog(temperature, pressures)\n",
    "    ax_fl[1].set_ylabel(r'pressure / bar')\n",
    "    ax_fl[1].set_xlabel('temperature')\n",
    "    ax_fl[1].invert_yaxis()\n",
    "    ax_fl[0].legend()\n"
   ]
  },
  {
   "cell_type": "markdown",
   "source": [
    "## Bolometric fluxes and heating rates"
   ],
   "metadata": {
    "collapsed": false
   }
  },
  {
   "cell_type": "code",
   "execution_count": 18,
   "metadata": {
    "ExecuteTime": {
     "end_time": "2023-05-08T14:51:08.036126Z",
     "start_time": "2023-05-08T14:51:07.894336Z"
    }
   },
   "outputs": [
    {
     "data": {
      "text/plain": "interactive(children=(FloatSlider(value=0.4, description='gamma', max=10.0, step=0.2), FloatSlider(value=100.0…",
      "application/vnd.jupyter.widget-view+json": {
       "version_major": 2,
       "version_minor": 0,
       "model_id": "064f5a7bd12347f28e01e8932aaa9b38"
      }
     },
     "metadata": {},
     "output_type": "display_data"
    }
   ],
   "source": [
    "fig_flb, ax_flb = plt.subplots(1, 3, sharey= True, constrained_layout=True)\n",
    "\n",
    "@interact(gamma=FloatSlider(min=0.0, max=10.0, step=0.2, value=0.4), T_int=FloatSlider(min=0.,max=1000,step=100., value=100.), T_equ=FloatSlider(min=0.,max=2000.,step=100., value=1000.))\n",
    "def plot_flux_bol(gamma, T_int, T_equ):\n",
    "    for axi in ax_flb:\n",
    "        axi.cla()\n",
    "    \n",
    "    kappa_IR = 0.05      \n",
    "    Tstar=6000\n",
    "    Rstar=1.0*nc.r_sun\n",
    "    semimajoraxis=0.01*nc.AU\n",
    "    gravity = 1e1**2.45\n",
    "    geometry='dayside_ave'\n",
    "\n",
    "    # temperature = chubb.Tr\n",
    "    temperature = guillot_global(pressures, kappa_IR, gamma, gravity, T_int, T_equ)\n",
    "\n",
    "    COs = 0.55 * np.ones_like(pressures)\n",
    "    FeHs = 0. * np.ones_like(pressures)\n",
    "\n",
    "    mass_fractions = interpol_abundances(COs, \\\n",
    "                FeHs, \\\n",
    "                temperature, \\\n",
    "                pressures)\n",
    "\n",
    "    for sp in linespecies:\n",
    "        mass_fractions[sp] = mass_fractions.pop(sp.split('_')[0])            \n",
    "\n",
    "    times = []\n",
    "    for atmosphere, mixm in zip(atmospheres, mixmethods):\n",
    "        atmosphere.calc_bolometric_flux(temperature, mass_fractions, gravity, mass_fractions['MMW'], Rstar=Rstar, Tstar=Tstar, semimajoraxis=semimajoraxis, geometry=geometry)\n",
    "\n",
    "        p_e = atmosphere.press/1e6\n",
    "        p_c = .5*(p_e[1:]+p_e[:-1])\n",
    "\n",
    "        ax_flb[0].plot(atmosphere.flux_bol, p_e, label =mixm)\n",
    "        ax_flb[1].plot(np.diff(atmosphere.flux_bol)/np.diff(p_e), p_c, label =mixm)\n",
    "\n",
    "        times.append(atmosphere.time_opa)\n",
    "\n",
    "    times = np.array(times)\n",
    "\n",
    "\n",
    "    ax_flb[2].loglog(temperature, pressures)\n",
    "    ax_flb[1].set_yscale('log')\n",
    "    ax_flb[0].set_yscale('log')\n",
    "    ax_flb[0].set_xscale('log')\n",
    "    ax_flb[0].set_xlabel('F / cgs')\n",
    "    ax_flb[1].set_xlabel('heatingrate / cgs')\n",
    "    ax_flb[2].set_xlabel('temperature / K')\n",
    "    ax_flb[0].set_ylabel('pressure / bar')\n",
    "    # ax_fl[1].set_xscale('log')\n",
    "    ax_flb[1].invert_yaxis()\n",
    "    ax_flb[2].invert_yaxis()\n",
    "    ax_flb[0].invert_yaxis()\n",
    "    ax_flb[0].legend()\n",
    "\n",
    "    print('times: 1st, fake, speedup',times[0], times, times[0]/times)\n"
   ]
  },
  {
   "cell_type": "markdown",
   "source": [
    "## Kappas"
   ],
   "metadata": {
    "collapsed": false
   }
  },
  {
   "cell_type": "code",
   "execution_count": 19,
   "metadata": {
    "tags": [],
    "ExecuteTime": {
     "end_time": "2023-05-08T14:51:08.515589Z",
     "start_time": "2023-05-08T14:51:08.054518Z"
    }
   },
   "outputs": [
    {
     "data": {
      "text/plain": "interactive(children=(FloatSlider(value=0.4, description='gamma', max=10.0, step=0.2), FloatSlider(value=100.0…",
      "application/vnd.jupyter.widget-view+json": {
       "version_major": 2,
       "version_minor": 0,
       "model_id": "109f71aa944b4e9d8a29759bc6284de5"
      }
     },
     "metadata": {},
     "output_type": "display_data"
    }
   ],
   "source": [
    "fig_kappa, ax_kappa = plt.subplots(10,1, figsize = (4,8), constrained_layout=True, sharex=True)\n",
    "\n",
    "@interact(gamma=FloatSlider(min=0.0, max=10.0, step=0.2, value=0.4), T_int=FloatSlider(min=0.,max=1000,step=100., value=100.), T_equ=FloatSlider(min=0.,max=2000.,step=100., value=1000.))\n",
    "def plot_eq_chem(gamma, T_int, T_equ):\n",
    "    for axi in ax_kappa:\n",
    "        axi.cla()  \n",
    "    \n",
    "    kappa_IR = 0.05      \n",
    "    Tstar=6000\n",
    "    Rstar=1.0*nc.r_sun\n",
    "    semimajoraxis=0.01*nc.AU\n",
    "    gravity = 1e1**2.45\n",
    "    geometry='dayside_ave'\n",
    "\n",
    "    # temperature = chubb.Tr\n",
    "    temperature = guillot_global(pressures, kappa_IR, gamma, gravity, T_int, T_equ)\n",
    "\n",
    "    COs = 0.55 * np.ones_like(pressures)\n",
    "    FeHs = 0. * np.ones_like(pressures)\n",
    "\n",
    "    mass_fractions = interpol_abundances(COs, \\\n",
    "                FeHs, \\\n",
    "                temperature, \\\n",
    "                pressures)\n",
    "\n",
    "    for sp in linespecies:\n",
    "        mass_fractions[sp] = mass_fractions.pop(sp.split('_')[0])\n",
    "\n",
    "    for atmosphere, mixm in zip(atmospheres, mixmethods):\n",
    "        atmosphere.calc_flux(temperature, mass_fractions, gravity, mass_fractions['MMW'], Rstar=Rstar, Tstar=Tstar, semimajoraxis=semimajoraxis, geometry=geometry)\n",
    "        line_struc_kappas = atmosphere.line_struc_kappas[:,:,0,:]\n",
    "\n",
    "        for i, p in enumerate(atmosphere.press):\n",
    "            ax_kappa[i].plot(line_struc_kappas[:,:,i].T.flatten(), alpha=0.4, label=mixm)\n",
    "    \n",
    "            ax_kappa[i].set_yscale('log')\n",
    "            ax_kappa[i].set_ylabel(\"$\\kappa$ / cm2/g\")\n",
    "\n",
    "    ax_kappa[-1].set_xlabel(r\"$\\nu\\cdot g$\")"
   ]
  },
  {
   "cell_type": "code",
   "execution_count": 11,
   "outputs": [],
   "source": [],
   "metadata": {
    "collapsed": false,
    "ExecuteTime": {
     "end_time": "2023-05-08T14:49:03.119707Z",
     "start_time": "2023-05-08T14:49:03.116761Z"
    }
   }
  }
 ],
 "metadata": {
  "kernelspec": {
   "display_name": "Python 3 (ipykernel)",
   "language": "python",
   "name": "python3"
  },
  "language_info": {
   "codemirror_mode": {
    "name": "ipython",
    "version": 3
   },
   "file_extension": ".py",
   "mimetype": "text/x-python",
   "name": "python",
   "nbconvert_exporter": "python",
   "pygments_lexer": "ipython3",
   "version": "3.10.9"
  },
  "vscode": {
   "interpreter": {
    "hash": "32cbc4f42371f953923e9a7e417846d947d932a8ed2024fa1bd37e8b68573f52"
   }
  }
 },
 "nbformat": 4,
 "nbformat_minor": 4
}
