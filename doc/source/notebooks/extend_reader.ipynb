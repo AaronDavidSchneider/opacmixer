{
 "cells": [
  {
   "cell_type": "code",
   "execution_count": 16,
   "id": "e8712b37-cfa9-4536-a9b0-385786747da0",
   "metadata": {
    "tags": [],
    "ExecuteTime": {
     "end_time": "2023-10-12T08:27:50.209092Z",
     "start_time": "2023-10-12T08:27:50.152020Z"
    }
   },
   "outputs": [],
   "source": [
    "import numpy as np\n",
    "import glob\n",
    "import os\n",
    "from opac_mixer.read import ReadOpac\n",
    "import scipy.constants as const\n",
    "import h5py\n",
    "\n",
    "%matplotlib inline"
   ]
  },
  {
   "cell_type": "markdown",
   "metadata": {
    "collapsed": false
   },
   "source": [
    "# Tutorial: Add custom k-tables\n",
    "\n",
    "In this tutorial we are going to explain what you need in order load in your custom k-table format. This is a very important step, if you want to be able to use the DeepSet mixing in your GCM/application.\n",
    "\n",
    "The `opac_mixer` code uses an abstraction of the k-tables and as such you need to make sure that you read in the opacity in the correct format. When done correctly, you will not have any issues to perform the mixing correctly and emulate the process.\n",
    "\n",
    "The basis of this abstraction is the parent class `ReadOpac` (from `opac_mixer/read.py`). You can draw inspiration from the `ReadOpacChubb` class, which inherits the `ReadOpac` class and is the abstraction of the `pRT` format (binned-down) k-tables from Katy Chubb on [exomolOP](https://ui.adsabs.harvard.edu/abs/2021A&A...646A..21C)."
   ],
   "id": "b4e56a32947fd14c"
  },
  {
   "cell_type": "markdown",
   "source": [
    "A k-table grid requires a few things: pressure, temperature, wavelength/frequency/wavenumber and $g$ values. We require all of these for every species as well! Furthermore, we need to ensure that these match for all species.\n",
    "Note: We need to load multiple opacity species, because we want to mix multiple species. When we use multiple species, we may however, encounter that we have different temperatures and different pressures at which the k-table is defined. We have methods to deal with that by interpolation (see below)."
   ],
   "metadata": {
    "collapsed": false
   },
   "id": "c18ba16afa1a0f67"
  },
  {
   "cell_type": "markdown",
   "source": [
    "## ExomolOP pRT k-tables"
   ],
   "metadata": {
    "collapsed": false
   },
   "id": "14ee09a02c401568"
  },
  {
   "cell_type": "markdown",
   "source": [
    "We will now explain how we have build the `ReadOpacChubb` (see `opac_mixer/read.py`) class by rebuilding it"
   ],
   "metadata": {
    "collapsed": false
   },
   "id": "c87d615e4469efe3"
  },
  {
   "cell_type": "code",
   "execution_count": 17,
   "outputs": [
    {
     "name": "stdout",
     "output_type": "stream",
     "text": [
      "Available data: ['DOI', 'Date_ID', 'bin_centers', 'bin_edges', 'kcoeff', 'key_iso_ll', 'method', 'mol_mass', 'mol_name', 'ngauss', 'p', 'samples', 't', 'temperature_grid_type', 'weights', 'wlrange', 'wnrange']\n",
      "---------------\n",
      "temperature points (27): [ 100.  200.  300.  400.  500.  600.  700.  800.  900. 1000. 1100. 1200.\n",
      " 1300. 1400. 1500. 1600. 1700. 1800. 1900. 2000. 2200. 2400. 2600. 2800.\n",
      " 3000. 3200. 3400.]\n",
      "pressure points (22): [1.00000000e-05 2.15443469e-05 4.64158883e-05 1.00000000e-04\n",
      " 2.15443469e-04 4.64158883e-04 1.00000000e-03 2.15443469e-03\n",
      " 4.64158883e-03 1.00000000e-02 2.15443469e-02 4.64158883e-02\n",
      " 1.00000000e-01 2.15443469e-01 4.64158883e-01 1.00000000e+00\n",
      " 2.15443469e+00 4.64158883e+00 1.00000000e+01 2.15443469e+01\n",
      " 4.64158883e+01 1.00000000e+02]\n",
      "---------------\n",
      "wavenumber - edges (12) [3.33333333e+01 5.00000000e+02 1.14942529e+03 2.27272727e+03\n",
      " 2.85714286e+03 4.00000000e+03 4.95049505e+03 7.57575758e+03\n",
      " 1.17647059e+04 1.63934426e+04 2.38095238e+04 3.84615385e+04]\n",
      "weights (16) [0.04555284 0.10007147 0.14116799 0.1632077  0.1632077  0.14116799\n",
      " 0.10007147 0.04555284 0.00506143 0.01111905 0.01568533 0.01813419\n",
      " 0.01813419 0.01568533 0.01111905 0.00506143]\n",
      "---------------\n",
      "---------------\n",
      "actual ktable - shape (22, 27, 11, 16)\n"
     ]
    }
   ],
   "source": [
    "base = f'{os.environ[\"pRT_input_data_path\"]}/opacities/lines/corr_k'  # directory, where I stored the opacity files\n",
    "demofile = os.path.join(base, 'H2O_Exomol_R_S1/H2O_Exomol_R_S1.h5') \n",
    "\n",
    "with h5py.File(demofile) as f:\n",
    "    weights = np.array(f['weights'])\n",
    "    tgrid = np.array(f['t'])\n",
    "    pgrid = np.array(f['p'])\n",
    "    bin_edges = np.array(f['bin_edges'])\n",
    "    kcoeff = np.array(f['kcoeff'])\n",
    "    \n",
    "    print('Available data:', list(f.keys()))\n",
    "    print('---------------')\n",
    "    print(f'temperature points ({len(tgrid)}):', tgrid)\n",
    "    print(f'pressure points ({len(pgrid)}):', pgrid)\n",
    "    print('---------------')\n",
    "    print(f'wavenumber - edges ({len(bin_edges)})', bin_edges)\n",
    "    print(f'weights ({len(weights)})', weights)\n",
    "    \n",
    "    print('---------------')\n",
    "    print('---------------')\n",
    "    print(f'actual ktable - shape', kcoeff.shape)\n",
    "    \n",
    " \n",
    "    "
   ],
   "metadata": {
    "collapsed": false,
    "ExecuteTime": {
     "end_time": "2023-10-12T08:27:50.257745Z",
     "start_time": "2023-10-12T08:27:50.171981Z"
    }
   },
   "id": "a025094aa3128846"
  },
  {
   "cell_type": "markdown",
   "source": [
    "## $g$ values and weights "
   ],
   "metadata": {
    "collapsed": false
   },
   "id": "bef6cf8fe2095efc"
  },
  {
   "cell_type": "markdown",
   "source": [
    "We operate on weights instead of $g$ values. It is, however, easy to switch between them using these two functions: "
   ],
   "metadata": {
    "collapsed": false
   },
   "id": "a4b2a90892faa79"
  },
  {
   "cell_type": "code",
   "execution_count": 18,
   "outputs": [],
   "source": [
    "def compute_ggrid(w, Ng):\n",
    "    \"\"\"Helper function that calculates the ggrid for given weights. Works on a halfinteger grid.\"\"\"\n",
    "    cum_sum = 0.0\n",
    "    gcomp = np.empty(Ng)\n",
    "\n",
    "    for i in range(Ng):\n",
    "        gcomp[i] = cum_sum + 0.5 * w[i]\n",
    "        cum_sum = cum_sum + w[i]\n",
    "\n",
    "    return gcomp\n",
    "\n",
    "def compute_weights(g, Ng):\n",
    "    \"\"\"Calculate weights from g values\"\"\"\n",
    "    weights = np.empty(Ng)\n",
    "    \n",
    "    cum_sum = 0.0\n",
    "    for i in range(Ng):\n",
    "        weights[i] = 2.0*(g[i] - cum_sum)\n",
    "        cum_sum = cum_sum + weights[i]\n",
    "        \n",
    "    return weights\n",
    "\n",
    "# Verify that both functions are compatible\n",
    "np.testing.assert_allclose(weights, compute_weights(compute_ggrid(weights,len(weights)),len(weights)))"
   ],
   "metadata": {
    "collapsed": false,
    "ExecuteTime": {
     "end_time": "2023-10-12T08:27:50.272484Z",
     "start_time": "2023-10-12T08:27:50.199954Z"
    }
   },
   "id": "946e68968785bfee"
  },
  {
   "cell_type": "markdown",
   "source": [
    "## Building a reader class"
   ],
   "metadata": {
    "collapsed": false
   },
   "id": "dd207d7da356cd31"
  },
  {
   "cell_type": "markdown",
   "source": [
    "The reader class only needs to define a read in function and pass important metadata to the constructor of the parent class. That's it.\n",
    "\n",
    "The constructor (`__init__`) needs to call the parent constructor with the following arguments:\n",
    "\n",
    "1. `ls (int)`: number of species that are read in\n",
    "2. `lp (array(ls))`: array that holds the number of pressure grid points for each species\n",
    "3. `lt (array(ls))`: array that holds the number of temperature grid points for each species\n",
    "4. `lf (array(ls))`: array that holds the number of frequency grid points for each species\n",
    "5. `lg (array(ls))`: array that holds the number of $g$ grid points for each species\n",
    "\n",
    "*Note, that we require that `lf[0]==lf[i]` and `lg[0]==lg[i]` for all i in number of species*\n",
    "\n",
    "The read in function (`read_opac`) has to fill the following arrays:\n",
    "\n",
    "1. `self.spec (array(ls)`: array holding the names of the opacity species\n",
    "2. `self.T (array(ls, max(lt)))`: array holding the temperature in K at which the k-table grid is defined\n",
    "3. `self.p (array(ls, max(lp)))`: array holding the pressure values in bar at which the k-table grid is defined\n",
    "4. `self.bin_edges (array(ls, lf[0]+1))`: array holding the wave number ($1/\\lambda$) values in 1/cm of the edges of the wavenumber grid at which the k-table grid is defined\n",
    "5. `self.bin_center (array(ls, lf[0]))`: array holding the wave number ($1/\\lambda$) values in 1/cm of the center of the wavenumber grid at which the k-table grid is defined.\n",
    "5. `self.weights (array(ls, lg[0]))`: array holding the weights ($\\Delta g$) of the k-tables (see above for conversion from $g$ values)\n",
    "6. `self.kcoeff (array(ls, max(lp), max(lt), lf[0], lg[0])`: array holding the actual values of the k-table grid in cm2/g.\n",
    "\n",
    "Note, the data arrays are initialized with space up unto the maximum number of temperature and pressure grid points, hence the `max(lt)` and `max(lp)`.\n",
    "\n",
    "We can now build the opac reader (see also in `opac_mixer/read.py`):"
   ],
   "metadata": {
    "collapsed": false
   },
   "id": "56751ed9119cab00"
  },
  {
   "cell_type": "code",
   "execution_count": 19,
   "outputs": [],
   "source": [
    "class ReadOpacChubb(ReadOpac):\n",
    "    \"\"\"A ktable grid reader for the ExomolOP-pRT k-table format\"\"\"\n",
    "    def __init__(self, files) -> None:\n",
    "        \"\"\"\n",
    "        Construct the chubb reader for the ExomolOP-pRT k-table format.\n",
    "        \n",
    "        Parameters\n",
    "        ----------\n",
    "        files (list):\n",
    "            A list of filenames of the h5 files in which the k-tables are stored.\n",
    "        \"\"\"\n",
    "        ls = len(files)             # Number of opacity species is the number of k-table grid files\n",
    "        self._files = files         # This is custom to this reader, since we do the readin later \n",
    "        \n",
    "        # initialize the arrays that hold the dimensions \n",
    "        # of pressure, temperature, frequency and g values for each species \n",
    "        lp, lt, lf, lg = (  \n",
    "            np.empty(ls, dtype=int),\n",
    "            np.empty(ls, dtype=int),\n",
    "            np.empty(ls, dtype=int),\n",
    "            np.empty(ls, dtype=int),\n",
    "        )\n",
    "        \n",
    "        # read in this metadata for all species\n",
    "        for i, file in enumerate(files):\n",
    "            with h5py.File(file) as f:\n",
    "                lp[i], lt[i], lf[i], lg[i] = f[\"kcoeff\"].shape\n",
    "        \n",
    "        # call the parent constructor with the metadata\n",
    "        super().__init__(ls, lp, lt, lf, lg)\n",
    "\n",
    "    def read_opac(self):\n",
    "        \"\"\"Read in the kcoeff from h5 file.\"\"\"\n",
    "        # initialize some arrays\n",
    "        bin_edges = np.empty((self.ls, self.lf[0] + 1), dtype=np.float64)\n",
    "        weights = np.empty((self.ls, self.lg[0]), dtype=np.float64)\n",
    "        \n",
    "        # Iterate over all species and fill in the data\n",
    "        for i, file in enumerate(self._files):\n",
    "            with h5py.File(file) as f:\n",
    "                bin_edges[i, :] = np.array(f[\"bin_edges\"], dtype=np.float64)\n",
    "                weights[i, :] = np.array(f[\"weights\"], dtype=np.float64)\n",
    "                \n",
    "                # store species name\n",
    "                self.spec[i] = f[\"mol_name\"][0].decode(\"ascii\")\n",
    "                \n",
    "                # store pressure and temperature of the opacity species \n",
    "                self.T[i, : self.lt[i]] = np.array(f[\"t\"], dtype=np.float64)\n",
    "                self.p[i, : self.lp[i]] = np.array(f[\"p\"], dtype=np.float64)\n",
    "                \n",
    "                # convert k-table grid from cm2/mol to cm2/g:\n",
    "                conversion_factor = 1 / (\n",
    "                    np.float64(f[\"mol_mass\"][0]) * const.atomic_mass * 1000\n",
    "                )\n",
    "                kcoeff = np.array(f[\"kcoeff\"], dtype=np.float64) * conversion_factor\n",
    "                \n",
    "                # store ktable grid \n",
    "                self.kcoeff[i, : self.lp[i], : self.lt[i], :, :] = kcoeff\n",
    "        \n",
    "        # Do the check if the frequencies and g values are the same for all species\n",
    "        assert np.all(bin_edges[1:, :] == bin_edges[:-1, :]), \"frequency needs to match\"\n",
    "        assert np.all(weights[1:, :] == weights[:-1, :]), \"g grid needs to match\"\n",
    "        \n",
    "        # store the weights and frequency edges\n",
    "        self.weights = weights[0, :]\n",
    "        self.bin_edges = bin_edges[0, :]\n",
    "        \n",
    "        # This removes those frequencies from the grid that have no k-table data (kappa=0)\n",
    "        self.remove_sparse_frequencies()  # this function also sets self.bin_center\n",
    "                \n",
    "        # Set the read_done switch to true, since we are done with reading in the ktables\n",
    "        self.read_done = True"
   ],
   "metadata": {
    "collapsed": false,
    "ExecuteTime": {
     "end_time": "2023-10-12T08:27:50.274887Z",
     "start_time": "2023-10-12T08:27:50.215428Z"
    }
   },
   "id": "af8775b0ab5a153c"
  },
  {
   "cell_type": "markdown",
   "source": [
    "There is not more to take into account, since all other functionality is already defined in the parent class."
   ],
   "metadata": {
    "collapsed": false
   },
   "id": "8a808df2a44fbab6"
  },
  {
   "cell_type": "markdown",
   "source": [
    "## Reader class in action"
   ],
   "metadata": {
    "collapsed": false
   },
   "id": "55f2af1f0e05df83"
  },
  {
   "cell_type": "markdown",
   "source": [
    "Initialize the reader"
   ],
   "metadata": {
    "collapsed": false
   },
   "id": "d92244e726075d5"
  },
  {
   "cell_type": "code",
   "execution_count": 20,
   "outputs": [],
   "source": [
    "base = f'{os.environ[\"pRT_input_data_path\"]}/opacities/lines/corr_k'\n",
    "files_S1 = glob.glob(os.path.join(base,f'*_R_S1/*.h5'))\n",
    "opac = ReadOpacChubb(files_S1)"
   ],
   "metadata": {
    "collapsed": false,
    "ExecuteTime": {
     "end_time": "2023-10-12T08:27:50.282910Z",
     "start_time": "2023-10-12T08:27:50.222546Z"
    }
   },
   "id": "15ead2bce2fa8bba"
  },
  {
   "cell_type": "markdown",
   "source": [
    "Read in the files"
   ],
   "metadata": {
    "collapsed": false
   },
   "id": "4b436525c6ce8b31"
  },
  {
   "cell_type": "code",
   "execution_count": 21,
   "outputs": [],
   "source": [
    "opac.read_opac()"
   ],
   "metadata": {
    "collapsed": false,
    "ExecuteTime": {
     "end_time": "2023-10-12T08:27:50.473418Z",
     "start_time": "2023-10-12T08:27:50.249804Z"
    }
   },
   "id": "2f6071c363a00c9f"
  },
  {
   "cell_type": "markdown",
   "source": [
    "Do the interpolation to a common pressure-temperature grid. Note, that this is done automatically in the emulator class as well."
   ],
   "metadata": {
    "collapsed": false
   },
   "id": "b47067a28d9ade77"
  },
  {
   "cell_type": "code",
   "execution_count": 22,
   "outputs": [],
   "source": [
    "opac.setup_temp_and_pres()"
   ],
   "metadata": {
    "collapsed": false,
    "ExecuteTime": {
     "end_time": "2023-10-12T08:27:50.618186Z",
     "start_time": "2023-10-12T08:27:50.474922Z"
    }
   },
   "id": "76d3aa832b9526f7"
  },
  {
   "cell_type": "markdown",
   "source": [
    "Print the shape of the ktable grid"
   ],
   "metadata": {
    "collapsed": false
   },
   "id": "3ef385ac12f7240f"
  },
  {
   "cell_type": "code",
   "execution_count": 23,
   "outputs": [
    {
     "data": {
      "text/plain": "(14, 22, 27, 10, 16)"
     },
     "execution_count": 23,
     "metadata": {},
     "output_type": "execute_result"
    }
   ],
   "source": [
    "opac.kcoeff.shape"
   ],
   "metadata": {
    "collapsed": false,
    "ExecuteTime": {
     "end_time": "2023-10-12T08:27:50.623912Z",
     "start_time": "2023-10-12T08:27:50.619142Z"
    }
   },
   "id": "a141bdf4aabc60ea"
  }
 ],
 "metadata": {
  "kernelspec": {
   "display_name": "Python 3 (ipykernel)",
   "language": "python",
   "name": "python3"
  },
  "language_info": {
   "codemirror_mode": {
    "name": "ipython",
    "version": 3
   },
   "file_extension": ".py",
   "mimetype": "text/x-python",
   "name": "python",
   "nbconvert_exporter": "python",
   "pygments_lexer": "ipython3",
   "version": "3.10.9"
  },
  "vscode": {
   "interpreter": {
    "hash": "92a1b2918ac528726d3cb48c4d53fdcc056b2290a84fe6bd8142a3bdec70db35"
   }
  }
 },
 "nbformat": 4,
 "nbformat_minor": 5
}
