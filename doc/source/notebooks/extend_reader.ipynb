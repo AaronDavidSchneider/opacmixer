{
 "cells": [
  {
   "cell_type": "code",
   "execution_count": 69,
   "id": "e8712b37-cfa9-4536-a9b0-385786747da0",
   "metadata": {
    "tags": [],
    "ExecuteTime": {
     "end_time": "2023-10-11T15:03:55.637618Z",
     "start_time": "2023-10-11T15:03:54.670688Z"
    }
   },
   "outputs": [],
   "source": [
    "import numpy as np\n",
    "import glob\n",
    "import os\n",
    "from opac_mixer.read import ReadOpacChubb, ReadOpac\n",
    "import astropy.constants as const\n",
    "from opac_mixer.emulator import Emulator\n",
    "import h5py\n",
    "\n",
    "%matplotlib inline"
   ]
  },
  {
   "cell_type": "markdown",
   "metadata": {
    "collapsed": false
   },
   "source": [
    "# Tutorial: Add custom k-tables\n",
    "\n",
    "In this tutorial we are going to explain what you need in order load in your custom k-table format. This is a very important step, if you want to be able to use the DeepSet mixing in your GCM/application.\n",
    "\n",
    "The `opac_mixer` code uses an abstraction of the k-tables and as such you need to make sure that you read in the opacity in the correct format. When done correctly, you will not have any issues to perform the mixing correctly and emulate the process.\n",
    "\n",
    "The basis of this abstraction is the parent class `ReadOpac` (from `opac_mixer/read.py`). You can draw inspiration from the `ReadOpacChubb` class, which inherits the `ReadOpac` class and is the abstraction of the `pRT` format (binned-down) k-tables from Katy Chubb on [exomolOP](https://ui.adsabs.harvard.edu/abs/2021A&A...646A..21C)."
   ],
   "id": "b4e56a32947fd14c"
  },
  {
   "cell_type": "markdown",
   "source": [
    "A k-table grid requires a few things: pressure, temperature, wavelength/frequency/wavenumber and $g$ values. We require all of these for every species as well! Furthermore, we need to ensure that these match for all species.\n",
    "Note: We need to load multiple opacity species, because we want to mix multiple species. When we use multiple species, we may however, encounter that we have different temperatures and different pressures at which the k-table is defined. We have methods to deal with that by interpolation (see below)."
   ],
   "metadata": {
    "collapsed": false
   },
   "id": "c18ba16afa1a0f67"
  },
  {
   "cell_type": "markdown",
   "source": [
    "## ExomolOP pRT k-tables"
   ],
   "metadata": {
    "collapsed": false
   },
   "id": "14ee09a02c401568"
  },
  {
   "cell_type": "markdown",
   "source": [
    "We will now explain how we have build the `ReadOpacChubb` class by rebuilding it"
   ],
   "metadata": {
    "collapsed": false
   },
   "id": "c87d615e4469efe3"
  },
  {
   "cell_type": "code",
   "execution_count": 70,
   "outputs": [
    {
     "name": "stdout",
     "output_type": "stream",
     "text": [
      "Available data: ['DOI', 'Date_ID', 'bin_centers', 'bin_edges', 'kcoeff', 'key_iso_ll', 'method', 'mol_mass', 'mol_name', 'ngauss', 'p', 'samples', 't', 'temperature_grid_type', 'weights', 'wlrange', 'wnrange']\n",
      "---------------\n",
      "temperature points (27): [ 100.  200.  300.  400.  500.  600.  700.  800.  900. 1000. 1100. 1200.\n",
      " 1300. 1400. 1500. 1600. 1700. 1800. 1900. 2000. 2200. 2400. 2600. 2800.\n",
      " 3000. 3200. 3400.]\n",
      "pressure points (22): [1.00000000e-05 2.15443469e-05 4.64158883e-05 1.00000000e-04\n",
      " 2.15443469e-04 4.64158883e-04 1.00000000e-03 2.15443469e-03\n",
      " 4.64158883e-03 1.00000000e-02 2.15443469e-02 4.64158883e-02\n",
      " 1.00000000e-01 2.15443469e-01 4.64158883e-01 1.00000000e+00\n",
      " 2.15443469e+00 4.64158883e+00 1.00000000e+01 2.15443469e+01\n",
      " 4.64158883e+01 1.00000000e+02]\n",
      "---------------\n",
      "wavenumber - edges (12) [3.33333333e+01 5.00000000e+02 1.14942529e+03 2.27272727e+03\n",
      " 2.85714286e+03 4.00000000e+03 4.95049505e+03 7.57575758e+03\n",
      " 1.17647059e+04 1.63934426e+04 2.38095238e+04 3.84615385e+04]\n",
      "weights (16) [0.04555284 0.10007147 0.14116799 0.1632077  0.1632077  0.14116799\n",
      " 0.10007147 0.04555284 0.00506143 0.01111905 0.01568533 0.01813419\n",
      " 0.01813419 0.01568533 0.01111905 0.00506143]\n",
      "---------------\n",
      "---------------\n",
      "actual ktable - shape (22, 27, 11, 16)\n"
     ]
    }
   ],
   "source": [
    "base = f'{os.environ[\"pRT_input_data_path\"]}/opacities/lines/corr_k'  # directory, where I stored the opacity files\n",
    "demofile = os.path.join(base, 'H2O_Exomol_R_S1/H2O_Exomol_R_S1.h5') \n",
    "\n",
    "with h5py.File(demofile) as f:\n",
    "    print('Available data:', list(f.keys()))\n",
    "    print('---------------')\n",
    "    print(f'temperature points ({len(f[\"t\"])}):', np.array(f['t']))\n",
    "    print(f'pressure points ({len(f[\"p\"])}):', np.array(f['p']))\n",
    "    print('---------------')\n",
    "    print(f'wavenumber - edges ({len(f[\"bin_edges\"])})', np.array(f['bin_edges']))\n",
    "    print(f'weights ({len(f[\"weights\"])})', np.array(f['weights']))\n",
    "    \n",
    "    print('---------------')\n",
    "    print('---------------')\n",
    "    print(f'actual ktable - shape', np.array(f['kcoeff']).shape)\n",
    "    \n",
    "    weights = np.array(f['weights']) \n",
    "    "
   ],
   "metadata": {
    "collapsed": false,
    "ExecuteTime": {
     "end_time": "2023-10-11T15:04:07.790752Z",
     "start_time": "2023-10-11T15:04:07.765779Z"
    }
   },
   "id": "a025094aa3128846"
  },
  {
   "cell_type": "markdown",
   "source": [
    "## $g$ values and weights "
   ],
   "metadata": {
    "collapsed": false
   },
   "id": "bef6cf8fe2095efc"
  },
  {
   "cell_type": "markdown",
   "source": [
    "We operate on weights instead of $g$ values. It is, however, easy to switch between them using these two functions: "
   ],
   "metadata": {
    "collapsed": false
   },
   "id": "a4b2a90892faa79"
  },
  {
   "cell_type": "code",
   "execution_count": 71,
   "outputs": [],
   "source": [
    "def compute_ggrid(w, Ng):\n",
    "    \"\"\"Helper function that calculates the ggrid for given weights. Works on a halfinteger grid.\"\"\"\n",
    "    cum_sum = 0.0\n",
    "    gcomp = np.empty(Ng)\n",
    "\n",
    "    for i in range(Ng):\n",
    "        gcomp[i] = cum_sum + 0.5 * w[i]\n",
    "        cum_sum = cum_sum + w[i]\n",
    "\n",
    "    return gcomp\n",
    "\n",
    "def compute_weights(g, Ng):\n",
    "    \"\"\"Calculate weights from g values\"\"\"\n",
    "    weights = np.empty(Ng)\n",
    "    \n",
    "    cum_sum = 0.0\n",
    "    for i in range(Ng):\n",
    "        weights[i] = 2.0*(g[i] - cum_sum)\n",
    "        cum_sum = cum_sum + weights[i]\n",
    "        \n",
    "    return weights\n",
    "\n",
    "# Verify that both functions are compatible\n",
    "np.testing.assert_allclose(weights, compute_weights(compute_ggrid(weights,len(weights)),len(weights)))"
   ],
   "metadata": {
    "collapsed": false,
    "ExecuteTime": {
     "end_time": "2023-10-11T15:04:09.377526Z",
     "start_time": "2023-10-11T15:04:09.373643Z"
    }
   },
   "id": "946e68968785bfee"
  },
  {
   "cell_type": "markdown",
   "source": [
    "## Building a reader class"
   ],
   "metadata": {
    "collapsed": false
   },
   "id": "dd207d7da356cd31"
  },
  {
   "cell_type": "markdown",
   "source": [
    "The reader class only needs to define a read in function and pass important metadata to the constructor of the parent class. Thats it.\n",
    "\n",
    "The constructor needs to call the parent constructor with the following arguments:\n",
    "\n",
    "1. `ls`(int): number of species that are read in\n",
    "2. `lp` (array(ls)): array that holds the number of pressure grid points for each species\n",
    "3. `lt` (array(ls)): array that holds the number of temperature grid points for each species\n",
    "4. `lf` (array(ls)): array that holds the number of frequency grid points for each species\n",
    "5.  `lg` (array(ls)): array that holds the number of $g$ grid points for each species\n",
    "\n",
    "*Note, that we require that `lf[0]==lf[i]` and `lg[0]==lg[i]` for all i in number of species*"
   ],
   "metadata": {
    "collapsed": false
   },
   "id": "56751ed9119cab00"
  },
  {
   "cell_type": "code",
   "execution_count": null,
   "outputs": [],
   "source": [
    "class ReadOpacChubb(ReadOpac):\n",
    "    def __init__(self, files) -> None:\n",
    "        \"\"\"Construct the chubb reader.\"\"\"\n",
    "        ls = len(files)\n",
    "        self._files = files\n",
    "        # read meta data:\n",
    "        lp, lt, lf, lg = (\n",
    "            np.empty(ls, dtype=int),\n",
    "            np.empty(ls, dtype=int),\n",
    "            np.empty(ls, dtype=int),\n",
    "            np.empty(ls, dtype=int),\n",
    "        )\n",
    "        for i, file in enumerate(files):\n",
    "            with h5py.File(file) as f:\n",
    "                lp[i], lt[i], lf[i], lg[i] = f[\"kcoeff\"].shape\n",
    "\n",
    "        super().__init__(ls, lp, lt, lf, lg)\n",
    "\n",
    "    def read_opac(self):\n",
    "        \"\"\"Read in the kcoeff from h5 file.\"\"\"\n",
    "        bin_edges = np.empty((self.ls, self.lf[0] + 1), dtype=np.float64)\n",
    "        weights = np.empty((self.ls, self.lg[0]), dtype=np.float64)\n",
    "        for i, file in enumerate(self._files):\n",
    "            with h5py.File(file) as f:\n",
    "                bin_edges[i, :] = np.array(f[\"bin_edges\"], dtype=np.float64)\n",
    "                weights[i, :] = np.array(f[\"weights\"], dtype=np.float64)\n",
    "                self.spec[i] = f[\"mol_name\"][0].decode(\"ascii\")\n",
    "                self.T[i, : self.lt[i]] = np.array(f[\"t\"], dtype=np.float64)\n",
    "                self.p[i, : self.lp[i]] = np.array(f[\"p\"], dtype=np.float64)\n",
    "                # from cm2/mol to cm2/g:\n",
    "                conversion_factor = 1 / (\n",
    "                    np.float64(f[\"mol_mass\"][0]) * const.atomic_mass * 1000\n",
    "                )\n",
    "                kcoeff = np.array(f[\"kcoeff\"], dtype=np.float64) * conversion_factor\n",
    "                self.kcoeff[i, : self.lp[i], : self.lt[i], :, :] = kcoeff\n",
    "\n",
    "        assert np.all(bin_edges[1:, :] == bin_edges[:-1, :]), \"frequency needs to match\"\n",
    "        assert np.all(weights[1:, :] == weights[:-1, :]), \"g grid needs to match\"\n",
    "        self.bin_edges = bin_edges[0, :]\n",
    "\n",
    "        self.remove_sparse_frequencies()\n",
    "\n",
    "        self.weights = weights[0, :]\n",
    "\n",
    "        self.read_done = True"
   ],
   "metadata": {
    "collapsed": false
   },
   "id": "af8775b0ab5a153c"
  }
 ],
 "metadata": {
  "kernelspec": {
   "display_name": "Python 3 (ipykernel)",
   "language": "python",
   "name": "python3"
  },
  "language_info": {
   "codemirror_mode": {
    "name": "ipython",
    "version": 3
   },
   "file_extension": ".py",
   "mimetype": "text/x-python",
   "name": "python",
   "nbconvert_exporter": "python",
   "pygments_lexer": "ipython3",
   "version": "3.10.9"
  },
  "vscode": {
   "interpreter": {
    "hash": "92a1b2918ac528726d3cb48c4d53fdcc056b2290a84fe6bd8142a3bdec70db35"
   }
  }
 },
 "nbformat": 4,
 "nbformat_minor": 5
}
