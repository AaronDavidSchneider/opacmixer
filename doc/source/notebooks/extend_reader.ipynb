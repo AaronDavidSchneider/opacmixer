{
 "cells": [
  {
   "cell_type": "code",
   "execution_count": 1,
   "id": "e8712b37-cfa9-4536-a9b0-385786747da0",
   "metadata": {
    "ExecuteTime": {
     "end_time": "2023-05-10T07:17:12.658625Z",
     "start_time": "2023-05-10T07:17:06.302479Z"
    },
    "tags": []
   },
   "outputs": [
    {
     "name": "stderr",
     "output_type": "stream",
     "text": [
      "2023-05-10 09:17:08.305134: I tensorflow/core/platform/cpu_feature_guard.cc:193] This TensorFlow binary is optimized with oneAPI Deep Neural Network Library (oneDNN) to use the following CPU instructions in performance-critical operations:  SSE4.1 SSE4.2 AVX AVX2 FMA\n",
      "To enable them in other operations, rebuild TensorFlow with the appropriate compiler flags.\n"
     ]
    }
   ],
   "source": [
    "import numpy as np\n",
    "import glob\n",
    "import os\n",
    "from opac_mixer.read import ReadOpacChubb\n",
    "from opac_mixer.emulator import Emulator, DEFAULT_MMR_RANGES\n",
    "\n",
    "%matplotlib inline"
   ]
  },
  {
   "cell_type": "markdown",
   "metadata": {
    "collapsed": false
   },
   "source": [
    "# Tutorial: Add custom k-tables"
   ]
  }
 ],
 "metadata": {
  "kernelspec": {
   "display_name": "Python 3 (ipykernel)",
   "language": "python",
   "name": "python3"
  },
  "language_info": {
   "codemirror_mode": {
    "name": "ipython",
    "version": 3
   },
   "file_extension": ".py",
   "mimetype": "text/x-python",
   "name": "python",
   "nbconvert_exporter": "python",
   "pygments_lexer": "ipython3",
   "version": "3.10.9"
  },
  "vscode": {
   "interpreter": {
    "hash": "92a1b2918ac528726d3cb48c4d53fdcc056b2290a84fe6bd8142a3bdec70db35"
   }
  }
 },
 "nbformat": 4,
 "nbformat_minor": 5
}
